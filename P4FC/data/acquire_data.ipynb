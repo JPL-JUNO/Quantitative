{
 "cells": [
  {
   "cell_type": "code",
   "execution_count": 1,
   "metadata": {},
   "outputs": [
    {
     "name": "stdout",
     "output_type": "stream",
     "text": [
      "\n",
      "@Title        : 保存一些数据，免得每次都要从 SB vendor 那里下载 \n",
      "@Author(s)    : Stephen CUI\n",
      "@LastEditor(s): Stephen CUI\n",
      "@CreatedTime  : 2023-12-10 00:45:13\n",
      "@Description  : 这本书写的最傻逼的地方，TM 的还第一章给我强调数据的重要性\n",
      "\n"
     ]
    }
   ],
   "source": [
    "print(\"\"\"\n",
    "@Title        : 保存一些数据，免得每次都要从 SB vendor 那里下载 \n",
    "@Author(s)    : Stephen CUI\n",
    "@LastEditor(s): Stephen CUI\n",
    "@CreatedTime  : 2023-12-10 00:45:13\n",
    "@Description  : 这本书写的最傻逼的地方，TM 的还第一章给我强调数据的重要性\n",
    "\"\"\")"
   ]
  },
  {
   "cell_type": "code",
   "execution_count": 2,
   "metadata": {},
   "outputs": [],
   "source": [
    "import yfinance as yf\n",
    "import pandas as pd"
   ]
  },
  {
   "cell_type": "code",
   "execution_count": 2,
   "metadata": {},
   "outputs": [
    {
     "name": "stdout",
     "output_type": "stream",
     "text": [
      "[*********************100%%**********************]  1 of 1 completed\n"
     ]
    },
    {
     "data": {
      "text/html": [
       "<div>\n",
       "<style scoped>\n",
       "    .dataframe tbody tr th:only-of-type {\n",
       "        vertical-align: middle;\n",
       "    }\n",
       "\n",
       "    .dataframe tbody tr th {\n",
       "        vertical-align: top;\n",
       "    }\n",
       "\n",
       "    .dataframe thead th {\n",
       "        text-align: right;\n",
       "    }\n",
       "</style>\n",
       "<table border=\"1\" class=\"dataframe\">\n",
       "  <thead>\n",
       "    <tr style=\"text-align: right;\">\n",
       "      <th></th>\n",
       "      <th>Open</th>\n",
       "      <th>High</th>\n",
       "      <th>Low</th>\n",
       "      <th>Close</th>\n",
       "      <th>Adj Close</th>\n",
       "      <th>Volume</th>\n",
       "    </tr>\n",
       "    <tr>\n",
       "      <th>Date</th>\n",
       "      <th></th>\n",
       "      <th></th>\n",
       "      <th></th>\n",
       "      <th></th>\n",
       "      <th></th>\n",
       "      <th></th>\n",
       "    </tr>\n",
       "  </thead>\n",
       "  <tbody>\n",
       "    <tr>\n",
       "      <th>2010-01-01</th>\n",
       "      <td>0.69798</td>\n",
       "      <td>0.69798</td>\n",
       "      <td>0.69435</td>\n",
       "      <td>0.69493</td>\n",
       "      <td>0.69493</td>\n",
       "      <td>0</td>\n",
       "    </tr>\n",
       "    <tr>\n",
       "      <th>2010-01-04</th>\n",
       "      <td>0.69881</td>\n",
       "      <td>0.70116</td>\n",
       "      <td>0.69195</td>\n",
       "      <td>0.69329</td>\n",
       "      <td>0.69329</td>\n",
       "      <td>0</td>\n",
       "    </tr>\n",
       "    <tr>\n",
       "      <th>2010-01-05</th>\n",
       "      <td>0.69314</td>\n",
       "      <td>0.69677</td>\n",
       "      <td>0.69046</td>\n",
       "      <td>0.69609</td>\n",
       "      <td>0.69609</td>\n",
       "      <td>0</td>\n",
       "    </tr>\n",
       "    <tr>\n",
       "      <th>2010-01-06</th>\n",
       "      <td>0.69609</td>\n",
       "      <td>0.69973</td>\n",
       "      <td>0.69278</td>\n",
       "      <td>0.69425</td>\n",
       "      <td>0.69425</td>\n",
       "      <td>0</td>\n",
       "    </tr>\n",
       "    <tr>\n",
       "      <th>2010-01-07</th>\n",
       "      <td>0.69430</td>\n",
       "      <td>0.69920</td>\n",
       "      <td>0.69229</td>\n",
       "      <td>0.69842</td>\n",
       "      <td>0.69842</td>\n",
       "      <td>0</td>\n",
       "    </tr>\n",
       "  </tbody>\n",
       "</table>\n",
       "</div>"
      ],
      "text/plain": [
       "               Open     High      Low    Close  Adj Close  Volume\n",
       "Date                                                             \n",
       "2010-01-01  0.69798  0.69798  0.69435  0.69493    0.69493       0\n",
       "2010-01-04  0.69881  0.70116  0.69195  0.69329    0.69329       0\n",
       "2010-01-05  0.69314  0.69677  0.69046  0.69609    0.69609       0\n",
       "2010-01-06  0.69609  0.69973  0.69278  0.69425    0.69425       0\n",
       "2010-01-07  0.69430  0.69920  0.69229  0.69842    0.69842       0"
      ]
     },
     "execution_count": 2,
     "metadata": {},
     "output_type": "execute_result"
    }
   ],
   "source": [
    "# 获取美元和欧元的汇率\n",
    "df = yf.download('USDEUR=X',\n",
    "                 start='2010-01-01',\n",
    "                 end='2020-01-01',\n",
    "                 progress=True)\n",
    "df.head()"
   ]
  },
  {
   "cell_type": "code",
   "execution_count": 3,
   "metadata": {},
   "outputs": [],
   "source": [
    "df.to_csv('USDEUR.csv')"
   ]
  },
  {
   "cell_type": "code",
   "execution_count": 5,
   "metadata": {},
   "outputs": [],
   "source": [
    "df = yf.download(\"MSFT\",\n",
    "                 start=\"2020-01-01\",\n",
    "                 end=\"2020-12-31\",\n",
    "                 progress=False)"
   ]
  },
  {
   "cell_type": "code",
   "execution_count": 7,
   "metadata": {},
   "outputs": [],
   "source": [
    "df.to_csv('./MSFT_20200101_202012_31.csv')"
   ]
  },
  {
   "cell_type": "code",
   "execution_count": 8,
   "metadata": {},
   "outputs": [],
   "source": [
    "import quandl"
   ]
  },
  {
   "cell_type": "code",
   "execution_count": 9,
   "metadata": {},
   "outputs": [],
   "source": [
    "with open('../../token/quandl.txt', 'r') as f:\n",
    "    quandl.ApiConfig.api_key = f.read()"
   ]
  },
  {
   "cell_type": "code",
   "execution_count": 12,
   "metadata": {},
   "outputs": [],
   "source": [
    "df = quandl.get(dataset=\"FRED/UNRATENSA\",\n",
    "                start_date=\"2014-01-01\",\n",
    "                end_date=\"2019-12-31\").rename(columns={\"Value\": \"unemp_rate\"})"
   ]
  },
  {
   "cell_type": "code",
   "execution_count": 13,
   "metadata": {},
   "outputs": [],
   "source": [
    "df.to_csv('./UNEMP_20140101_20191231.csv')"
   ]
  },
  {
   "cell_type": "code",
   "execution_count": null,
   "metadata": {},
   "outputs": [],
   "source": []
  }
 ],
 "metadata": {
  "kernelspec": {
   "display_name": "fi",
   "language": "python",
   "name": "python3"
  },
  "language_info": {
   "codemirror_mode": {
    "name": "ipython",
    "version": 3
   },
   "file_extension": ".py",
   "mimetype": "text/x-python",
   "name": "python",
   "nbconvert_exporter": "python",
   "pygments_lexer": "ipython3",
   "version": "3.11.5"
  }
 },
 "nbformat": 4,
 "nbformat_minor": 2
}
