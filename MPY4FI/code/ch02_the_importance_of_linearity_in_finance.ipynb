{
 "cells": [
  {
   "cell_type": "code",
   "execution_count": 1,
   "metadata": {},
   "outputs": [
    {
     "data": {
      "text/plain": [
       "'\\n@Title: 金融中的线性问题\\n@Author(s): Stephen CUI\\n@LastEditor(s): Stephen CUI\\n@CreatedTime: 2023-10-18 21:53:24\\n@Description: \\n'"
      ]
     },
     "execution_count": 1,
     "metadata": {},
     "output_type": "execute_result"
    }
   ],
   "source": [
    "\"\"\"\n",
    "@Title: 金融中的线性问题\n",
    "@Author(s): Stephen CUI\n",
    "@LastEditor(s): Stephen CUI\n",
    "@CreatedTime: 2023-10-18 21:53:24\n",
    "@Description: \n",
    "\"\"\""
   ]
  },
  {
   "cell_type": "markdown",
   "metadata": {},
   "source": [
    "## 因子模型的多元线性回归"
   ]
  },
  {
   "cell_type": "code",
   "execution_count": 4,
   "metadata": {},
   "outputs": [],
   "source": [
    "import numpy as np\n",
    "import statsmodels.api as sm"
   ]
  },
  {
   "cell_type": "code",
   "execution_count": 7,
   "metadata": {},
   "outputs": [],
   "source": [
    "num_periods = 9\n",
    "all_values = np.array([np.random.random(8) for i in range(num_periods)])"
   ]
  },
  {
   "cell_type": "code",
   "execution_count": 12,
   "metadata": {},
   "outputs": [],
   "source": [
    "y_values = all_values[:, 0]\n",
    "x_values = all_values[:, 1:]\n",
    "x_values = sm.add_constant(x_values) # Include the intercept\n",
    "results = sm.OLS(y_values, x_values).fit()"
   ]
  },
  {
   "cell_type": "code",
   "execution_count": 17,
   "metadata": {},
   "outputs": [
    {
     "data": {
      "text/html": [
       "<table class=\"simpletable\">\n",
       "<caption>OLS Regression Results</caption>\n",
       "<tr>\n",
       "  <th>Dep. Variable:</th>            <td>y</td>        <th>  R-squared:         </th> <td>   0.957</td>\n",
       "</tr>\n",
       "<tr>\n",
       "  <th>Model:</th>                   <td>OLS</td>       <th>  Adj. R-squared:    </th> <td>   0.657</td>\n",
       "</tr>\n",
       "<tr>\n",
       "  <th>Method:</th>             <td>Least Squares</td>  <th>  F-statistic:       </th> <td>   3.187</td>\n",
       "</tr>\n",
       "<tr>\n",
       "  <th>Date:</th>             <td>Thu, 19 Oct 2023</td> <th>  Prob (F-statistic):</th>  <td> 0.407</td> \n",
       "</tr>\n",
       "<tr>\n",
       "  <th>Time:</th>                 <td>20:54:06</td>     <th>  Log-Likelihood:    </th> <td>  14.858</td>\n",
       "</tr>\n",
       "<tr>\n",
       "  <th>No. Observations:</th>      <td>     9</td>      <th>  AIC:               </th> <td>  -13.72</td>\n",
       "</tr>\n",
       "<tr>\n",
       "  <th>Df Residuals:</th>          <td>     1</td>      <th>  BIC:               </th> <td>  -12.14</td>\n",
       "</tr>\n",
       "<tr>\n",
       "  <th>Df Model:</th>              <td>     7</td>      <th>                     </th>     <td> </td>   \n",
       "</tr>\n",
       "<tr>\n",
       "  <th>Covariance Type:</th>      <td>nonrobust</td>    <th>                     </th>     <td> </td>   \n",
       "</tr>\n",
       "</table>\n",
       "<table class=\"simpletable\">\n",
       "<tr>\n",
       "    <td></td>       <th>coef</th>     <th>std err</th>      <th>t</th>      <th>P>|t|</th>  <th>[0.025</th>    <th>0.975]</th>  \n",
       "</tr>\n",
       "<tr>\n",
       "  <th>const</th> <td>    1.0859</td> <td>    0.362</td> <td>    3.002</td> <td> 0.205</td> <td>   -3.510</td> <td>    5.682</td>\n",
       "</tr>\n",
       "<tr>\n",
       "  <th>x1</th>    <td>   -0.5677</td> <td>    0.292</td> <td>   -1.941</td> <td> 0.303</td> <td>   -4.283</td> <td>    3.148</td>\n",
       "</tr>\n",
       "<tr>\n",
       "  <th>x2</th>    <td>   -0.5355</td> <td>    0.288</td> <td>   -1.859</td> <td> 0.314</td> <td>   -4.196</td> <td>    3.125</td>\n",
       "</tr>\n",
       "<tr>\n",
       "  <th>x3</th>    <td>   -0.0137</td> <td>    0.221</td> <td>   -0.062</td> <td> 0.960</td> <td>   -2.818</td> <td>    2.791</td>\n",
       "</tr>\n",
       "<tr>\n",
       "  <th>x4</th>    <td>    0.6347</td> <td>    0.478</td> <td>    1.328</td> <td> 0.411</td> <td>   -5.440</td> <td>    6.709</td>\n",
       "</tr>\n",
       "<tr>\n",
       "  <th>x5</th>    <td>   -0.1030</td> <td>    0.273</td> <td>   -0.378</td> <td> 0.770</td> <td>   -3.566</td> <td>    3.360</td>\n",
       "</tr>\n",
       "<tr>\n",
       "  <th>x6</th>    <td>   -0.6262</td> <td>    0.234</td> <td>   -2.676</td> <td> 0.228</td> <td>   -3.600</td> <td>    2.348</td>\n",
       "</tr>\n",
       "<tr>\n",
       "  <th>x7</th>    <td>    0.0549</td> <td>    0.231</td> <td>    0.238</td> <td> 0.851</td> <td>   -2.876</td> <td>    2.986</td>\n",
       "</tr>\n",
       "</table>\n",
       "<table class=\"simpletable\">\n",
       "<tr>\n",
       "  <th>Omnibus:</th>       <td> 1.770</td> <th>  Durbin-Watson:     </th> <td>   2.779</td>\n",
       "</tr>\n",
       "<tr>\n",
       "  <th>Prob(Omnibus):</th> <td> 0.413</td> <th>  Jarque-Bera (JB):  </th> <td>   0.599</td>\n",
       "</tr>\n",
       "<tr>\n",
       "  <th>Skew:</th>          <td>-0.628</td> <th>  Prob(JB):          </th> <td>   0.741</td>\n",
       "</tr>\n",
       "<tr>\n",
       "  <th>Kurtosis:</th>      <td> 2.859</td> <th>  Cond. No.          </th> <td>    21.5</td>\n",
       "</tr>\n",
       "</table><br/><br/>Notes:<br/>[1] Standard Errors assume that the covariance matrix of the errors is correctly specified."
      ],
      "text/latex": [
       "\\begin{center}\n",
       "\\begin{tabular}{lclc}\n",
       "\\toprule\n",
       "\\textbf{Dep. Variable:}    &        y         & \\textbf{  R-squared:         } &     0.957   \\\\\n",
       "\\textbf{Model:}            &       OLS        & \\textbf{  Adj. R-squared:    } &     0.657   \\\\\n",
       "\\textbf{Method:}           &  Least Squares   & \\textbf{  F-statistic:       } &     3.187   \\\\\n",
       "\\textbf{Date:}             & Thu, 19 Oct 2023 & \\textbf{  Prob (F-statistic):} &    0.407    \\\\\n",
       "\\textbf{Time:}             &     20:54:06     & \\textbf{  Log-Likelihood:    } &    14.858   \\\\\n",
       "\\textbf{No. Observations:} &           9      & \\textbf{  AIC:               } &    -13.72   \\\\\n",
       "\\textbf{Df Residuals:}     &           1      & \\textbf{  BIC:               } &    -12.14   \\\\\n",
       "\\textbf{Df Model:}         &           7      & \\textbf{                     } &             \\\\\n",
       "\\textbf{Covariance Type:}  &    nonrobust     & \\textbf{                     } &             \\\\\n",
       "\\bottomrule\n",
       "\\end{tabular}\n",
       "\\begin{tabular}{lcccccc}\n",
       "               & \\textbf{coef} & \\textbf{std err} & \\textbf{t} & \\textbf{P$> |$t$|$} & \\textbf{[0.025} & \\textbf{0.975]}  \\\\\n",
       "\\midrule\n",
       "\\textbf{const} &       1.0859  &        0.362     &     3.002  &         0.205        &       -3.510    &        5.682     \\\\\n",
       "\\textbf{x1}    &      -0.5677  &        0.292     &    -1.941  &         0.303        &       -4.283    &        3.148     \\\\\n",
       "\\textbf{x2}    &      -0.5355  &        0.288     &    -1.859  &         0.314        &       -4.196    &        3.125     \\\\\n",
       "\\textbf{x3}    &      -0.0137  &        0.221     &    -0.062  &         0.960        &       -2.818    &        2.791     \\\\\n",
       "\\textbf{x4}    &       0.6347  &        0.478     &     1.328  &         0.411        &       -5.440    &        6.709     \\\\\n",
       "\\textbf{x5}    &      -0.1030  &        0.273     &    -0.378  &         0.770        &       -3.566    &        3.360     \\\\\n",
       "\\textbf{x6}    &      -0.6262  &        0.234     &    -2.676  &         0.228        &       -3.600    &        2.348     \\\\\n",
       "\\textbf{x7}    &       0.0549  &        0.231     &     0.238  &         0.851        &       -2.876    &        2.986     \\\\\n",
       "\\bottomrule\n",
       "\\end{tabular}\n",
       "\\begin{tabular}{lclc}\n",
       "\\textbf{Omnibus:}       &  1.770 & \\textbf{  Durbin-Watson:     } &    2.779  \\\\\n",
       "\\textbf{Prob(Omnibus):} &  0.413 & \\textbf{  Jarque-Bera (JB):  } &    0.599  \\\\\n",
       "\\textbf{Skew:}          & -0.628 & \\textbf{  Prob(JB):          } &    0.741  \\\\\n",
       "\\textbf{Kurtosis:}      &  2.859 & \\textbf{  Cond. No.          } &     21.5  \\\\\n",
       "\\bottomrule\n",
       "\\end{tabular}\n",
       "%\\caption{OLS Regression Results}\n",
       "\\end{center}\n",
       "\n",
       "Notes: \\newline\n",
       " [1] Standard Errors assume that the covariance matrix of the errors is correctly specified."
      ],
      "text/plain": [
       "<class 'statsmodels.iolib.summary.Summary'>\n",
       "\"\"\"\n",
       "                            OLS Regression Results                            \n",
       "==============================================================================\n",
       "Dep. Variable:                      y   R-squared:                       0.957\n",
       "Model:                            OLS   Adj. R-squared:                  0.657\n",
       "Method:                 Least Squares   F-statistic:                     3.187\n",
       "Date:                Thu, 19 Oct 2023   Prob (F-statistic):              0.407\n",
       "Time:                        20:54:06   Log-Likelihood:                 14.858\n",
       "No. Observations:                   9   AIC:                            -13.72\n",
       "Df Residuals:                       1   BIC:                            -12.14\n",
       "Df Model:                           7                                         \n",
       "Covariance Type:            nonrobust                                         \n",
       "==============================================================================\n",
       "                 coef    std err          t      P>|t|      [0.025      0.975]\n",
       "------------------------------------------------------------------------------\n",
       "const          1.0859      0.362      3.002      0.205      -3.510       5.682\n",
       "x1            -0.5677      0.292     -1.941      0.303      -4.283       3.148\n",
       "x2            -0.5355      0.288     -1.859      0.314      -4.196       3.125\n",
       "x3            -0.0137      0.221     -0.062      0.960      -2.818       2.791\n",
       "x4             0.6347      0.478      1.328      0.411      -5.440       6.709\n",
       "x5            -0.1030      0.273     -0.378      0.770      -3.566       3.360\n",
       "x6            -0.6262      0.234     -2.676      0.228      -3.600       2.348\n",
       "x7             0.0549      0.231      0.238      0.851      -2.876       2.986\n",
       "==============================================================================\n",
       "Omnibus:                        1.770   Durbin-Watson:                   2.779\n",
       "Prob(Omnibus):                  0.413   Jarque-Bera (JB):                0.599\n",
       "Skew:                          -0.628   Prob(JB):                        0.741\n",
       "Kurtosis:                       2.859   Cond. No.                         21.5\n",
       "==============================================================================\n",
       "\n",
       "Notes:\n",
       "[1] Standard Errors assume that the covariance matrix of the errors is correctly specified.\n",
       "\"\"\""
      ]
     },
     "execution_count": 17,
     "metadata": {},
     "output_type": "execute_result"
    }
   ],
   "source": [
    "results.summary()"
   ]
  },
  {
   "cell_type": "code",
   "execution_count": 18,
   "metadata": {},
   "outputs": [
    {
     "data": {
      "text/plain": [
       "array([ 1.0858684 , -0.56770645, -0.53551328, -0.01371734,  0.63469805,\n",
       "       -0.10295032, -0.62624187,  0.05489536])"
      ]
     },
     "execution_count": 18,
     "metadata": {},
     "output_type": "execute_result"
    }
   ],
   "source": [
    "results.params"
   ]
  },
  {
   "cell_type": "markdown",
   "metadata": {},
   "source": [
    "## 线性最优化"
   ]
  },
  {
   "cell_type": "code",
   "execution_count": 24,
   "metadata": {},
   "outputs": [
    {
     "data": {
      "text/plain": [
       "1"
      ]
     },
     "execution_count": 24,
     "metadata": {},
     "output_type": "execute_result"
    }
   ],
   "source": [
    "import pulp\n",
    "\n",
    "# 申明要求解的变量\n",
    "x = pulp.LpVariable('x', lowBound=0)\n",
    "y = pulp.LpVariable('y', lowBound=0)\n",
    "# 通过文本描述和最优化的的类型来初始化问题\n",
    "problem = pulp.LpProblem(\n",
    "    'A_simple_maximization_objective',\n",
    "    pulp.LpMaximize\n",
    ")\n",
    "# 允许使用 += 加入任意数量的限制条件及其描述文本\n",
    "problem += 3*x + 2*y, 'The objective function'\n",
    "problem += 2*x + y <= 100, 'lst constraint'\n",
    "problem += x + y <= 80, '2nd constraint'\n",
    "problem += x <= 40, '3rd constraint'\n",
    "# 执行线性求解\n",
    "problem.solve()"
   ]
  },
  {
   "cell_type": "code",
   "execution_count": 25,
   "metadata": {},
   "outputs": [
    {
     "name": "stdout",
     "output_type": "stream",
     "text": [
      "Maximization Results:\n",
      "x = 20.0\n",
      "y = 60.0\n"
     ]
    }
   ],
   "source": [
    "print('Maximization Results:')\n",
    "for variable in problem.variables():\n",
    "    print(variable.name, '=', variable.varValue)"
   ]
  },
  {
   "cell_type": "markdown",
   "metadata": {},
   "source": [
    "### 整数规划"
   ]
  },
  {
   "cell_type": "code",
   "execution_count": 48,
   "metadata": {},
   "outputs": [],
   "source": [
    "dealers = ['X', 'Y', 'Z']\n",
    "variable_costs = {'X': 500, 'Y': 350, 'Z': 450}\n",
    "fixed_costs = {'X': 4000, 'Y': 2000, 'Z': 6000}\n",
    "\n",
    "quantities = pulp.LpVariable.dicts('quantity',\n",
    "                                   dealers,\n",
    "                                   lowBound=0,\n",
    "                                   cat=pulp.LpInteger)\n",
    "# 二进制值，表示是否为某位交易商交易\n",
    "is_orders = pulp.LpVariable.dicts('orders',\n",
    "                                  dealers,\n",
    "                                  cat=pulp.LpBinary)"
   ]
  },
  {
   "cell_type": "markdown",
   "metadata": {},
   "source": [
    "\\begin{equation}\n",
    "\\min \\sum_{i=x}^{z}\\text{isOrder}_i(\\text{variable cost}_i\\times \\text{quantity}_i+\\text{fixed cost}_i)\n",
    "\\end{equation}"
   ]
  },
  {
   "cell_type": "code",
   "execution_count": 35,
   "metadata": {},
   "outputs": [
    {
     "ename": "TypeError",
     "evalue": "Non-constant expressions cannot be multiplied",
     "output_type": "error",
     "traceback": [
      "\u001b[1;31m---------------------------------------------------------------------------\u001b[0m",
      "\u001b[1;31mTypeError\u001b[0m                                 Traceback (most recent call last)",
      "\u001b[1;32md:\\DS_Works\\Quantitative\\MPY4FI\\code\\ch02_the_importance_of_linearity_in_finance.ipynb 单元格 14\u001b[0m line \u001b[0;36m3\n\u001b[0;32m      <a href='vscode-notebook-cell:/d%3A/DS_Works/Quantitative/MPY4FI/code/ch02_the_importance_of_linearity_in_finance.ipynb#X30sZmlsZQ%3D%3D?line=0'>1</a>\u001b[0m model \u001b[39m=\u001b[39m pulp\u001b[39m.\u001b[39mLpProblem(\u001b[39m'\u001b[39m\u001b[39mA_cost_minimization_problem\u001b[39m\u001b[39m'\u001b[39m,\n\u001b[0;32m      <a href='vscode-notebook-cell:/d%3A/DS_Works/Quantitative/MPY4FI/code/ch02_the_importance_of_linearity_in_finance.ipynb#X30sZmlsZQ%3D%3D?line=1'>2</a>\u001b[0m                        pulp\u001b[39m.\u001b[39mLpMinimize)\n\u001b[1;32m----> <a href='vscode-notebook-cell:/d%3A/DS_Works/Quantitative/MPY4FI/code/ch02_the_importance_of_linearity_in_finance.ipynb#X30sZmlsZQ%3D%3D?line=2'>3</a>\u001b[0m model \u001b[39m+\u001b[39m\u001b[39m=\u001b[39m \u001b[39msum\u001b[39m([(variable_costs[i] \u001b[39m*\u001b[39;49m quantities[i] \u001b[39m+\u001b[39;49m fixed_costs[i])\u001b[39m*\u001b[39;49mis_orders[i] \u001b[39mfor\u001b[39;49;00m i \u001b[39min\u001b[39;49;00m dealers]), \u001b[39m'\u001b[39m\u001b[39mMinimize portfolio cost\u001b[39m\u001b[39m'\u001b[39m\n\u001b[0;32m      <a href='vscode-notebook-cell:/d%3A/DS_Works/Quantitative/MPY4FI/code/ch02_the_importance_of_linearity_in_finance.ipynb#X30sZmlsZQ%3D%3D?line=3'>4</a>\u001b[0m model \u001b[39m+\u001b[39m\u001b[39m=\u001b[39m \u001b[39msum\u001b[39m([quantities[i] \u001b[39mfor\u001b[39;00m i \u001b[39min\u001b[39;00m dealers]) \u001b[39m==\u001b[39m \u001b[39m150\u001b[39m, \u001b[39m'\u001b[39m\u001b[39mTotal contracts required\u001b[39m\u001b[39m'\u001b[39m\n\u001b[0;32m      <a href='vscode-notebook-cell:/d%3A/DS_Works/Quantitative/MPY4FI/code/ch02_the_importance_of_linearity_in_finance.ipynb#X30sZmlsZQ%3D%3D?line=4'>5</a>\u001b[0m model \u001b[39m+\u001b[39m\u001b[39m=\u001b[39m \u001b[39m30\u001b[39m \u001b[39m<\u001b[39m\u001b[39m=\u001b[39m quantities[\u001b[39m'\u001b[39m\u001b[39mX\u001b[39m\u001b[39m'\u001b[39m] \u001b[39m<\u001b[39m\u001b[39m=\u001b[39m \u001b[39m100\u001b[39m, \u001b[39m'\u001b[39m\u001b[39mBoundary of total volume of X\u001b[39m\u001b[39m'\u001b[39m\n",
      "\u001b[1;32md:\\DS_Works\\Quantitative\\MPY4FI\\code\\ch02_the_importance_of_linearity_in_finance.ipynb 单元格 14\u001b[0m line \u001b[0;36m3\n\u001b[0;32m      <a href='vscode-notebook-cell:/d%3A/DS_Works/Quantitative/MPY4FI/code/ch02_the_importance_of_linearity_in_finance.ipynb#X30sZmlsZQ%3D%3D?line=0'>1</a>\u001b[0m model \u001b[39m=\u001b[39m pulp\u001b[39m.\u001b[39mLpProblem(\u001b[39m'\u001b[39m\u001b[39mA_cost_minimization_problem\u001b[39m\u001b[39m'\u001b[39m,\n\u001b[0;32m      <a href='vscode-notebook-cell:/d%3A/DS_Works/Quantitative/MPY4FI/code/ch02_the_importance_of_linearity_in_finance.ipynb#X30sZmlsZQ%3D%3D?line=1'>2</a>\u001b[0m                        pulp\u001b[39m.\u001b[39mLpMinimize)\n\u001b[1;32m----> <a href='vscode-notebook-cell:/d%3A/DS_Works/Quantitative/MPY4FI/code/ch02_the_importance_of_linearity_in_finance.ipynb#X30sZmlsZQ%3D%3D?line=2'>3</a>\u001b[0m model \u001b[39m+\u001b[39m\u001b[39m=\u001b[39m \u001b[39msum\u001b[39m([(variable_costs[i] \u001b[39m*\u001b[39;49m quantities[i] \u001b[39m+\u001b[39;49m fixed_costs[i])\u001b[39m*\u001b[39;49mis_orders[i] \u001b[39mfor\u001b[39;00m i \u001b[39min\u001b[39;00m dealers]), \u001b[39m'\u001b[39m\u001b[39mMinimize portfolio cost\u001b[39m\u001b[39m'\u001b[39m\n\u001b[0;32m      <a href='vscode-notebook-cell:/d%3A/DS_Works/Quantitative/MPY4FI/code/ch02_the_importance_of_linearity_in_finance.ipynb#X30sZmlsZQ%3D%3D?line=3'>4</a>\u001b[0m model \u001b[39m+\u001b[39m\u001b[39m=\u001b[39m \u001b[39msum\u001b[39m([quantities[i] \u001b[39mfor\u001b[39;00m i \u001b[39min\u001b[39;00m dealers]) \u001b[39m==\u001b[39m \u001b[39m150\u001b[39m, \u001b[39m'\u001b[39m\u001b[39mTotal contracts required\u001b[39m\u001b[39m'\u001b[39m\n\u001b[0;32m      <a href='vscode-notebook-cell:/d%3A/DS_Works/Quantitative/MPY4FI/code/ch02_the_importance_of_linearity_in_finance.ipynb#X30sZmlsZQ%3D%3D?line=4'>5</a>\u001b[0m model \u001b[39m+\u001b[39m\u001b[39m=\u001b[39m \u001b[39m30\u001b[39m \u001b[39m<\u001b[39m\u001b[39m=\u001b[39m quantities[\u001b[39m'\u001b[39m\u001b[39mX\u001b[39m\u001b[39m'\u001b[39m] \u001b[39m<\u001b[39m\u001b[39m=\u001b[39m \u001b[39m100\u001b[39m, \u001b[39m'\u001b[39m\u001b[39mBoundary of total volume of X\u001b[39m\u001b[39m'\u001b[39m\n",
      "File \u001b[1;32md:\\anaconda3\\envs\\fi\\Lib\\site-packages\\pulp\\pulp.py:969\u001b[0m, in \u001b[0;36mLpAffineExpression.__mul__\u001b[1;34m(self, other)\u001b[0m\n\u001b[0;32m    967\u001b[0m                 e[v] \u001b[39m=\u001b[39m c \u001b[39m*\u001b[39m x\n\u001b[0;32m    968\u001b[0m \u001b[39melif\u001b[39;00m \u001b[39misinstance\u001b[39m(other, LpVariable):\n\u001b[1;32m--> 969\u001b[0m     \u001b[39mreturn\u001b[39;00m \u001b[39mself\u001b[39;49m \u001b[39m*\u001b[39;49m LpAffineExpression(other)\n\u001b[0;32m    970\u001b[0m \u001b[39melse\u001b[39;00m:\n\u001b[0;32m    971\u001b[0m     \u001b[39mif\u001b[39;00m other \u001b[39m!=\u001b[39m \u001b[39m0\u001b[39m:\n",
      "File \u001b[1;32md:\\anaconda3\\envs\\fi\\Lib\\site-packages\\pulp\\pulp.py:957\u001b[0m, in \u001b[0;36mLpAffineExpression.__mul__\u001b[1;34m(self, other)\u001b[0m\n\u001b[0;32m    955\u001b[0m \u001b[39mif\u001b[39;00m \u001b[39mlen\u001b[39m(other):\n\u001b[0;32m    956\u001b[0m     \u001b[39mif\u001b[39;00m \u001b[39mlen\u001b[39m(\u001b[39mself\u001b[39m):\n\u001b[1;32m--> 957\u001b[0m         \u001b[39mraise\u001b[39;00m \u001b[39mTypeError\u001b[39;00m(\u001b[39m\"\u001b[39m\u001b[39mNon-constant expressions cannot be multiplied\u001b[39m\u001b[39m\"\u001b[39m)\n\u001b[0;32m    958\u001b[0m     \u001b[39melse\u001b[39;00m:\n\u001b[0;32m    959\u001b[0m         c \u001b[39m=\u001b[39m \u001b[39mself\u001b[39m\u001b[39m.\u001b[39mconstant\n",
      "\u001b[1;31mTypeError\u001b[0m: Non-constant expressions cannot be multiplied"
     ]
    }
   ],
   "source": [
    "model = pulp.LpProblem('A_cost_minimization_problem',\n",
    "                       pulp.LpMinimize)\n",
    "model += sum([(variable_costs[i] * quantities[i] + fixed_costs[i])*is_orders[i] for i in dealers]), 'Minimize portfolio cost'\n",
    "model += sum([quantities[i] for i in dealers]) == 150, 'Total contracts required'\n",
    "model += 30 <= quantities['X'] <= 100, 'Boundary of total volume of X'\n",
    "model += 30 <= quantities['Y'] <= 90, 'Boundary of total volume of Y'\n",
    "model += 30 <= quantities['Z'] <= 70, 'Boundary of total volume of Z'"
   ]
  },
  {
   "cell_type": "code",
   "execution_count": 49,
   "metadata": {},
   "outputs": [
    {
     "data": {
      "text/plain": [
       "1"
      ]
     },
     "execution_count": 49,
     "metadata": {},
     "output_type": "execute_result"
    }
   ],
   "source": [
    "model = pulp.LpProblem('A_cost_minimization_problem',\n",
    "                       pulp.LpMinimize)\n",
    "model += sum([variable_costs[i] * quantities[i] + fixed_costs[i] * is_orders[i] for i in dealers]), 'Minimize portfolio cost'\n",
    "model += is_orders['X'] * 30 <= quantities['X'] <= is_orders['X'] * 100, 'Boundary of total volume of X'\n",
    "model += is_orders['Y'] * 30 <= quantities['Y'] <= is_orders['Y'] * 90, 'Boundary of total volume of Y'\n",
    "model += is_orders['Z'] * 30 <= quantities['Z'] <= is_orders['Z'] * 70, 'Boundary of total volume of Z'\n",
    "model += sum([quantities[i] for i in dealers]) == 150, 'Total contracts required'\n",
    "model.solve()"
   ]
  },
  {
   "cell_type": "code",
   "execution_count": 51,
   "metadata": {},
   "outputs": [
    {
     "name": "stdout",
     "output_type": "stream",
     "text": [
      "Minimization Results:\n",
      "orders_X = 0.0\n",
      "orders_Y = 1.0\n",
      "orders_Z = 1.0\n",
      "quantity_X = 0.0\n",
      "quantity_Y = 90.0\n",
      "quantity_Z = 60.0\n",
      "Total cost: 66500.0\n"
     ]
    }
   ],
   "source": [
    "print(\"Minimization Results:\")\n",
    "for variable in model.variables():\n",
    "    print(variable, '=', variable.varValue)\n",
    "print('Total cost:', pulp.value(model.objective))"
   ]
  },
  {
   "cell_type": "markdown",
   "metadata": {},
   "source": [
    "## 使用矩阵解线性方程组"
   ]
  },
  {
   "cell_type": "code",
   "execution_count": 54,
   "metadata": {},
   "outputs": [],
   "source": [
    "import numpy as np\n",
    "\n",
    "A = np.array([[2, 1, 1], \n",
    "              [1, 3, 2],\n",
    "              [1, 0, 0]])\n",
    "B = np.array([[4], [5], [6]])"
   ]
  },
  {
   "cell_type": "code",
   "execution_count": 55,
   "metadata": {},
   "outputs": [
    {
     "data": {
      "text/plain": [
       "array([[  6.],\n",
       "       [ 15.],\n",
       "       [-23.]])"
      ]
     },
     "execution_count": 55,
     "metadata": {},
     "output_type": "execute_result"
    }
   ],
   "source": [
    "np.linalg.solve(A, B)"
   ]
  },
  {
   "cell_type": "markdown",
   "metadata": {},
   "source": [
    "## LU 分解"
   ]
  },
  {
   "cell_type": "code",
   "execution_count": 58,
   "metadata": {},
   "outputs": [
    {
     "data": {
      "text/plain": [
       "array([[  6.],\n",
       "       [ 15.],\n",
       "       [-23.]])"
      ]
     },
     "execution_count": 58,
     "metadata": {},
     "output_type": "execute_result"
    }
   ],
   "source": [
    "import scipy.linalg as linalg\n",
    "A = np.array([\n",
    "    [2, 1, 1], \n",
    "    [1, 3, 2],\n",
    "    [1, 0, 0]\n",
    "])\n",
    "B = np.array([[4], [5], [6]])\n",
    "LU = linalg.lu_factor(A)\n",
    "x = linalg.lu_solve(LU, B)\n",
    "x"
   ]
  },
  {
   "cell_type": "code",
   "execution_count": 59,
   "metadata": {},
   "outputs": [],
   "source": [
    "import scipy\n",
    "P, L, U = scipy.linalg.lu(A)"
   ]
  },
  {
   "cell_type": "code",
   "execution_count": 60,
   "metadata": {},
   "outputs": [
    {
     "data": {
      "text/plain": [
       "array([[1., 0., 0.],\n",
       "       [0., 1., 0.],\n",
       "       [0., 0., 1.]])"
      ]
     },
     "execution_count": 60,
     "metadata": {},
     "output_type": "execute_result"
    }
   ],
   "source": [
    "P"
   ]
  },
  {
   "cell_type": "code",
   "execution_count": 61,
   "metadata": {},
   "outputs": [
    {
     "data": {
      "text/plain": [
       "array([[ 1. ,  0. ,  0. ],\n",
       "       [ 0.5,  1. ,  0. ],\n",
       "       [ 0.5, -0.2,  1. ]])"
      ]
     },
     "execution_count": 61,
     "metadata": {},
     "output_type": "execute_result"
    }
   ],
   "source": [
    "L"
   ]
  },
  {
   "cell_type": "code",
   "execution_count": 62,
   "metadata": {},
   "outputs": [
    {
     "data": {
      "text/plain": [
       "array([[ 2. ,  1. ,  1. ],\n",
       "       [ 0. ,  2.5,  1.5],\n",
       "       [ 0. ,  0. , -0.2]])"
      ]
     },
     "execution_count": 62,
     "metadata": {},
     "output_type": "execute_result"
    }
   ],
   "source": [
    "U"
   ]
  },
  {
   "cell_type": "code",
   "execution_count": null,
   "metadata": {},
   "outputs": [],
   "source": []
  }
 ],
 "metadata": {
  "kernelspec": {
   "display_name": "fi",
   "language": "python",
   "name": "python3"
  },
  "language_info": {
   "codemirror_mode": {
    "name": "ipython",
    "version": 3
   },
   "file_extension": ".py",
   "mimetype": "text/x-python",
   "name": "python",
   "nbconvert_exporter": "python",
   "pygments_lexer": "ipython3",
   "version": "3.11.5"
  }
 },
 "nbformat": 4,
 "nbformat_minor": 2
}
