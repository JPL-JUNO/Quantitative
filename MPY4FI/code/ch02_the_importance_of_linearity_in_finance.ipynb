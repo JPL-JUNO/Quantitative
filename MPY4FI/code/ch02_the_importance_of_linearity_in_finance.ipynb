{
 "cells": [
  {
   "cell_type": "code",
   "execution_count": 1,
   "metadata": {},
   "outputs": [
    {
     "data": {
      "text/plain": [
       "'\\n@Title: 金融中的线性问题\\n@Author(s): Stephen CUI\\n@LastEditor(s): Stephen CUI\\n@CreatedTime: 2023-10-18 21:53:24\\n@Description: \\n'"
      ]
     },
     "execution_count": 1,
     "metadata": {},
     "output_type": "execute_result"
    }
   ],
   "source": [
    "\"\"\"\n",
    "@Title: 金融中的线性问题\n",
    "@Author(s): Stephen CUI\n",
    "@LastEditor(s): Stephen CUI\n",
    "@CreatedTime: 2023-10-18 21:53:24\n",
    "@Description: \n",
    "\"\"\""
   ]
  },
  {
   "cell_type": "markdown",
   "metadata": {},
   "source": [
    "## 因子模型的多元线性回归"
   ]
  },
  {
   "cell_type": "code",
   "execution_count": 2,
   "metadata": {},
   "outputs": [],
   "source": [
    "import numpy as np\n",
    "import statsmodels.api as sm"
   ]
  },
  {
   "cell_type": "code",
   "execution_count": 3,
   "metadata": {},
   "outputs": [],
   "source": [
    "num_periods = 9\n",
    "all_values = np.array([np.random.random(8) for i in range(num_periods)])"
   ]
  },
  {
   "cell_type": "code",
   "execution_count": 4,
   "metadata": {},
   "outputs": [],
   "source": [
    "y_values = all_values[:, 0]\n",
    "x_values = all_values[:, 1:]\n",
    "x_values = sm.add_constant(x_values) # Include the intercept\n",
    "results = sm.OLS(y_values, x_values).fit()"
   ]
  },
  {
   "cell_type": "code",
   "execution_count": 5,
   "metadata": {},
   "outputs": [
    {
     "name": "stderr",
     "output_type": "stream",
     "text": [
      "d:\\anaconda3\\envs\\fi\\Lib\\site-packages\\scipy\\stats\\_stats_py.py:1806: UserWarning: kurtosistest only valid for n>=20 ... continuing anyway, n=9\n",
      "  warnings.warn(\"kurtosistest only valid for n>=20 ... continuing \"\n"
     ]
    },
    {
     "data": {
      "text/html": [
       "<table class=\"simpletable\">\n",
       "<caption>OLS Regression Results</caption>\n",
       "<tr>\n",
       "  <th>Dep. Variable:</th>            <td>y</td>        <th>  R-squared:         </th> <td>   0.963</td>\n",
       "</tr>\n",
       "<tr>\n",
       "  <th>Model:</th>                   <td>OLS</td>       <th>  Adj. R-squared:    </th> <td>   0.704</td>\n",
       "</tr>\n",
       "<tr>\n",
       "  <th>Method:</th>             <td>Least Squares</td>  <th>  F-statistic:       </th> <td>   3.720</td>\n",
       "</tr>\n",
       "<tr>\n",
       "  <th>Date:</th>             <td>Sat, 21 Oct 2023</td> <th>  Prob (F-statistic):</th>  <td> 0.380</td> \n",
       "</tr>\n",
       "<tr>\n",
       "  <th>Time:</th>                 <td>17:07:11</td>     <th>  Log-Likelihood:    </th> <td>  14.849</td>\n",
       "</tr>\n",
       "<tr>\n",
       "  <th>No. Observations:</th>      <td>     9</td>      <th>  AIC:               </th> <td>  -13.70</td>\n",
       "</tr>\n",
       "<tr>\n",
       "  <th>Df Residuals:</th>          <td>     1</td>      <th>  BIC:               </th> <td>  -12.12</td>\n",
       "</tr>\n",
       "<tr>\n",
       "  <th>Df Model:</th>              <td>     7</td>      <th>                     </th>     <td> </td>   \n",
       "</tr>\n",
       "<tr>\n",
       "  <th>Covariance Type:</th>      <td>nonrobust</td>    <th>                     </th>     <td> </td>   \n",
       "</tr>\n",
       "</table>\n",
       "<table class=\"simpletable\">\n",
       "<tr>\n",
       "    <td></td>       <th>coef</th>     <th>std err</th>      <th>t</th>      <th>P>|t|</th>  <th>[0.025</th>    <th>0.975]</th>  \n",
       "</tr>\n",
       "<tr>\n",
       "  <th>const</th> <td>   -0.7926</td> <td>    0.447</td> <td>   -1.775</td> <td> 0.327</td> <td>   -6.466</td> <td>    4.881</td>\n",
       "</tr>\n",
       "<tr>\n",
       "  <th>x1</th>    <td>    0.2035</td> <td>    0.191</td> <td>    1.068</td> <td> 0.479</td> <td>   -2.218</td> <td>    2.625</td>\n",
       "</tr>\n",
       "<tr>\n",
       "  <th>x2</th>    <td>   -1.2269</td> <td>    0.603</td> <td>   -2.036</td> <td> 0.291</td> <td>   -8.882</td> <td>    6.429</td>\n",
       "</tr>\n",
       "<tr>\n",
       "  <th>x3</th>    <td>    0.0609</td> <td>    0.233</td> <td>    0.261</td> <td> 0.837</td> <td>   -2.901</td> <td>    3.022</td>\n",
       "</tr>\n",
       "<tr>\n",
       "  <th>x4</th>    <td>    1.2289</td> <td>    0.639</td> <td>    1.923</td> <td> 0.305</td> <td>   -6.893</td> <td>    9.351</td>\n",
       "</tr>\n",
       "<tr>\n",
       "  <th>x5</th>    <td>    2.2235</td> <td>    0.783</td> <td>    2.839</td> <td> 0.216</td> <td>   -7.728</td> <td>   12.175</td>\n",
       "</tr>\n",
       "<tr>\n",
       "  <th>x6</th>    <td>    0.4049</td> <td>    0.376</td> <td>    1.077</td> <td> 0.477</td> <td>   -4.373</td> <td>    5.183</td>\n",
       "</tr>\n",
       "<tr>\n",
       "  <th>x7</th>    <td>    0.0318</td> <td>    0.346</td> <td>    0.092</td> <td> 0.942</td> <td>   -4.363</td> <td>    4.427</td>\n",
       "</tr>\n",
       "</table>\n",
       "<table class=\"simpletable\">\n",
       "<tr>\n",
       "  <th>Omnibus:</th>       <td> 0.955</td> <th>  Durbin-Watson:     </th> <td>   2.374</td>\n",
       "</tr>\n",
       "<tr>\n",
       "  <th>Prob(Omnibus):</th> <td> 0.620</td> <th>  Jarque-Bera (JB):  </th> <td>   0.666</td>\n",
       "</tr>\n",
       "<tr>\n",
       "  <th>Skew:</th>          <td> 0.296</td> <th>  Prob(JB):          </th> <td>   0.717</td>\n",
       "</tr>\n",
       "<tr>\n",
       "  <th>Kurtosis:</th>      <td> 1.807</td> <th>  Cond. No.          </th> <td>    47.6</td>\n",
       "</tr>\n",
       "</table><br/><br/>Notes:<br/>[1] Standard Errors assume that the covariance matrix of the errors is correctly specified."
      ],
      "text/latex": [
       "\\begin{center}\n",
       "\\begin{tabular}{lclc}\n",
       "\\toprule\n",
       "\\textbf{Dep. Variable:}    &        y         & \\textbf{  R-squared:         } &     0.963   \\\\\n",
       "\\textbf{Model:}            &       OLS        & \\textbf{  Adj. R-squared:    } &     0.704   \\\\\n",
       "\\textbf{Method:}           &  Least Squares   & \\textbf{  F-statistic:       } &     3.720   \\\\\n",
       "\\textbf{Date:}             & Sat, 21 Oct 2023 & \\textbf{  Prob (F-statistic):} &    0.380    \\\\\n",
       "\\textbf{Time:}             &     17:07:11     & \\textbf{  Log-Likelihood:    } &    14.849   \\\\\n",
       "\\textbf{No. Observations:} &           9      & \\textbf{  AIC:               } &    -13.70   \\\\\n",
       "\\textbf{Df Residuals:}     &           1      & \\textbf{  BIC:               } &    -12.12   \\\\\n",
       "\\textbf{Df Model:}         &           7      & \\textbf{                     } &             \\\\\n",
       "\\textbf{Covariance Type:}  &    nonrobust     & \\textbf{                     } &             \\\\\n",
       "\\bottomrule\n",
       "\\end{tabular}\n",
       "\\begin{tabular}{lcccccc}\n",
       "               & \\textbf{coef} & \\textbf{std err} & \\textbf{t} & \\textbf{P$> |$t$|$} & \\textbf{[0.025} & \\textbf{0.975]}  \\\\\n",
       "\\midrule\n",
       "\\textbf{const} &      -0.7926  &        0.447     &    -1.775  &         0.327        &       -6.466    &        4.881     \\\\\n",
       "\\textbf{x1}    &       0.2035  &        0.191     &     1.068  &         0.479        &       -2.218    &        2.625     \\\\\n",
       "\\textbf{x2}    &      -1.2269  &        0.603     &    -2.036  &         0.291        &       -8.882    &        6.429     \\\\\n",
       "\\textbf{x3}    &       0.0609  &        0.233     &     0.261  &         0.837        &       -2.901    &        3.022     \\\\\n",
       "\\textbf{x4}    &       1.2289  &        0.639     &     1.923  &         0.305        &       -6.893    &        9.351     \\\\\n",
       "\\textbf{x5}    &       2.2235  &        0.783     &     2.839  &         0.216        &       -7.728    &       12.175     \\\\\n",
       "\\textbf{x6}    &       0.4049  &        0.376     &     1.077  &         0.477        &       -4.373    &        5.183     \\\\\n",
       "\\textbf{x7}    &       0.0318  &        0.346     &     0.092  &         0.942        &       -4.363    &        4.427     \\\\\n",
       "\\bottomrule\n",
       "\\end{tabular}\n",
       "\\begin{tabular}{lclc}\n",
       "\\textbf{Omnibus:}       &  0.955 & \\textbf{  Durbin-Watson:     } &    2.374  \\\\\n",
       "\\textbf{Prob(Omnibus):} &  0.620 & \\textbf{  Jarque-Bera (JB):  } &    0.666  \\\\\n",
       "\\textbf{Skew:}          &  0.296 & \\textbf{  Prob(JB):          } &    0.717  \\\\\n",
       "\\textbf{Kurtosis:}      &  1.807 & \\textbf{  Cond. No.          } &     47.6  \\\\\n",
       "\\bottomrule\n",
       "\\end{tabular}\n",
       "%\\caption{OLS Regression Results}\n",
       "\\end{center}\n",
       "\n",
       "Notes: \\newline\n",
       " [1] Standard Errors assume that the covariance matrix of the errors is correctly specified."
      ],
      "text/plain": [
       "<class 'statsmodels.iolib.summary.Summary'>\n",
       "\"\"\"\n",
       "                            OLS Regression Results                            \n",
       "==============================================================================\n",
       "Dep. Variable:                      y   R-squared:                       0.963\n",
       "Model:                            OLS   Adj. R-squared:                  0.704\n",
       "Method:                 Least Squares   F-statistic:                     3.720\n",
       "Date:                Sat, 21 Oct 2023   Prob (F-statistic):              0.380\n",
       "Time:                        17:07:11   Log-Likelihood:                 14.849\n",
       "No. Observations:                   9   AIC:                            -13.70\n",
       "Df Residuals:                       1   BIC:                            -12.12\n",
       "Df Model:                           7                                         \n",
       "Covariance Type:            nonrobust                                         \n",
       "==============================================================================\n",
       "                 coef    std err          t      P>|t|      [0.025      0.975]\n",
       "------------------------------------------------------------------------------\n",
       "const         -0.7926      0.447     -1.775      0.327      -6.466       4.881\n",
       "x1             0.2035      0.191      1.068      0.479      -2.218       2.625\n",
       "x2            -1.2269      0.603     -2.036      0.291      -8.882       6.429\n",
       "x3             0.0609      0.233      0.261      0.837      -2.901       3.022\n",
       "x4             1.2289      0.639      1.923      0.305      -6.893       9.351\n",
       "x5             2.2235      0.783      2.839      0.216      -7.728      12.175\n",
       "x6             0.4049      0.376      1.077      0.477      -4.373       5.183\n",
       "x7             0.0318      0.346      0.092      0.942      -4.363       4.427\n",
       "==============================================================================\n",
       "Omnibus:                        0.955   Durbin-Watson:                   2.374\n",
       "Prob(Omnibus):                  0.620   Jarque-Bera (JB):                0.666\n",
       "Skew:                           0.296   Prob(JB):                        0.717\n",
       "Kurtosis:                       1.807   Cond. No.                         47.6\n",
       "==============================================================================\n",
       "\n",
       "Notes:\n",
       "[1] Standard Errors assume that the covariance matrix of the errors is correctly specified.\n",
       "\"\"\""
      ]
     },
     "execution_count": 5,
     "metadata": {},
     "output_type": "execute_result"
    }
   ],
   "source": [
    "results.summary()"
   ]
  },
  {
   "cell_type": "code",
   "execution_count": 6,
   "metadata": {},
   "outputs": [
    {
     "data": {
      "text/plain": [
       "array([-0.79262056,  0.20350966, -1.22691888,  0.06088126,  1.22892163,\n",
       "        2.22348989,  0.40487267,  0.03180347])"
      ]
     },
     "execution_count": 6,
     "metadata": {},
     "output_type": "execute_result"
    }
   ],
   "source": [
    "results.params"
   ]
  },
  {
   "cell_type": "markdown",
   "metadata": {},
   "source": [
    "## 线性最优化"
   ]
  },
  {
   "cell_type": "code",
   "execution_count": 7,
   "metadata": {},
   "outputs": [
    {
     "data": {
      "text/plain": [
       "1"
      ]
     },
     "execution_count": 7,
     "metadata": {},
     "output_type": "execute_result"
    }
   ],
   "source": [
    "import pulp\n",
    "\n",
    "# 申明要求解的变量\n",
    "x = pulp.LpVariable('x', lowBound=0)\n",
    "y = pulp.LpVariable('y', lowBound=0)\n",
    "# 通过文本描述和最优化的的类型来初始化问题\n",
    "problem = pulp.LpProblem(\n",
    "    'A_simple_maximization_objective',\n",
    "    pulp.LpMaximize\n",
    ")\n",
    "# 允许使用 += 加入任意数量的限制条件及其描述文本\n",
    "problem += 3*x + 2*y, 'The objective function'\n",
    "problem += 2*x + y <= 100, 'lst constraint'\n",
    "problem += x + y <= 80, '2nd constraint'\n",
    "problem += x <= 40, '3rd constraint'\n",
    "# 执行线性求解\n",
    "problem.solve()"
   ]
  },
  {
   "cell_type": "code",
   "execution_count": 8,
   "metadata": {},
   "outputs": [
    {
     "name": "stdout",
     "output_type": "stream",
     "text": [
      "Maximization Results:\n",
      "x = 20.0\n",
      "y = 60.0\n"
     ]
    }
   ],
   "source": [
    "print('Maximization Results:')\n",
    "for variable in problem.variables():\n",
    "    print(variable.name, '=', variable.varValue)"
   ]
  },
  {
   "cell_type": "markdown",
   "metadata": {},
   "source": [
    "### 整数规划"
   ]
  },
  {
   "cell_type": "code",
   "execution_count": 9,
   "metadata": {},
   "outputs": [],
   "source": [
    "dealers = ['X', 'Y', 'Z']\n",
    "variable_costs = {'X': 500, 'Y': 350, 'Z': 450}\n",
    "fixed_costs = {'X': 4000, 'Y': 2000, 'Z': 6000}\n",
    "\n",
    "quantities = pulp.LpVariable.dicts('quantity',\n",
    "                                   dealers,\n",
    "                                   lowBound=0,\n",
    "                                   cat=pulp.LpInteger)\n",
    "# 二进制值，表示是否为某位交易商交易\n",
    "is_orders = pulp.LpVariable.dicts('orders',\n",
    "                                  dealers,\n",
    "                                  cat=pulp.LpBinary)"
   ]
  },
  {
   "cell_type": "markdown",
   "metadata": {},
   "source": [
    "\\begin{equation}\n",
    "\\min \\sum_{i=x}^{z}\\text{isOrder}_i(\\text{variable cost}_i\\times \\text{quantity}_i+\\text{fixed cost}_i)\n",
    "\\end{equation}"
   ]
  },
  {
   "cell_type": "code",
   "execution_count": 10,
   "metadata": {},
   "outputs": [
    {
     "ename": "TypeError",
     "evalue": "Non-constant expressions cannot be multiplied",
     "output_type": "error",
     "traceback": [
      "\u001b[1;31m---------------------------------------------------------------------------\u001b[0m",
      "\u001b[1;31mTypeError\u001b[0m                                 Traceback (most recent call last)",
      "\u001b[1;32md:\\DS_Works\\Quantitative\\MPY4FI\\code\\ch02_the_importance_of_linearity_in_finance.ipynb 单元格 14\u001b[0m line \u001b[0;36m3\n\u001b[0;32m      <a href='vscode-notebook-cell:/d%3A/DS_Works/Quantitative/MPY4FI/code/ch02_the_importance_of_linearity_in_finance.ipynb#X16sZmlsZQ%3D%3D?line=0'>1</a>\u001b[0m model \u001b[39m=\u001b[39m pulp\u001b[39m.\u001b[39mLpProblem(\u001b[39m'\u001b[39m\u001b[39mA_cost_minimization_problem\u001b[39m\u001b[39m'\u001b[39m,\n\u001b[0;32m      <a href='vscode-notebook-cell:/d%3A/DS_Works/Quantitative/MPY4FI/code/ch02_the_importance_of_linearity_in_finance.ipynb#X16sZmlsZQ%3D%3D?line=1'>2</a>\u001b[0m                        pulp\u001b[39m.\u001b[39mLpMinimize)\n\u001b[1;32m----> <a href='vscode-notebook-cell:/d%3A/DS_Works/Quantitative/MPY4FI/code/ch02_the_importance_of_linearity_in_finance.ipynb#X16sZmlsZQ%3D%3D?line=2'>3</a>\u001b[0m model \u001b[39m+\u001b[39m\u001b[39m=\u001b[39m \u001b[39msum\u001b[39m([(variable_costs[i] \u001b[39m*\u001b[39;49m quantities[i] \u001b[39m+\u001b[39;49m fixed_costs[i])\u001b[39m*\u001b[39;49mis_orders[i] \u001b[39mfor\u001b[39;49;00m i \u001b[39min\u001b[39;49;00m dealers]), \u001b[39m'\u001b[39m\u001b[39mMinimize portfolio cost\u001b[39m\u001b[39m'\u001b[39m\n\u001b[0;32m      <a href='vscode-notebook-cell:/d%3A/DS_Works/Quantitative/MPY4FI/code/ch02_the_importance_of_linearity_in_finance.ipynb#X16sZmlsZQ%3D%3D?line=3'>4</a>\u001b[0m model \u001b[39m+\u001b[39m\u001b[39m=\u001b[39m \u001b[39msum\u001b[39m([quantities[i] \u001b[39mfor\u001b[39;00m i \u001b[39min\u001b[39;00m dealers]) \u001b[39m==\u001b[39m \u001b[39m150\u001b[39m, \u001b[39m'\u001b[39m\u001b[39mTotal contracts required\u001b[39m\u001b[39m'\u001b[39m\n\u001b[0;32m      <a href='vscode-notebook-cell:/d%3A/DS_Works/Quantitative/MPY4FI/code/ch02_the_importance_of_linearity_in_finance.ipynb#X16sZmlsZQ%3D%3D?line=4'>5</a>\u001b[0m model \u001b[39m+\u001b[39m\u001b[39m=\u001b[39m \u001b[39m30\u001b[39m \u001b[39m<\u001b[39m\u001b[39m=\u001b[39m quantities[\u001b[39m'\u001b[39m\u001b[39mX\u001b[39m\u001b[39m'\u001b[39m] \u001b[39m<\u001b[39m\u001b[39m=\u001b[39m \u001b[39m100\u001b[39m, \u001b[39m'\u001b[39m\u001b[39mBoundary of total volume of X\u001b[39m\u001b[39m'\u001b[39m\n",
      "\u001b[1;32md:\\DS_Works\\Quantitative\\MPY4FI\\code\\ch02_the_importance_of_linearity_in_finance.ipynb 单元格 14\u001b[0m line \u001b[0;36m3\n\u001b[0;32m      <a href='vscode-notebook-cell:/d%3A/DS_Works/Quantitative/MPY4FI/code/ch02_the_importance_of_linearity_in_finance.ipynb#X16sZmlsZQ%3D%3D?line=0'>1</a>\u001b[0m model \u001b[39m=\u001b[39m pulp\u001b[39m.\u001b[39mLpProblem(\u001b[39m'\u001b[39m\u001b[39mA_cost_minimization_problem\u001b[39m\u001b[39m'\u001b[39m,\n\u001b[0;32m      <a href='vscode-notebook-cell:/d%3A/DS_Works/Quantitative/MPY4FI/code/ch02_the_importance_of_linearity_in_finance.ipynb#X16sZmlsZQ%3D%3D?line=1'>2</a>\u001b[0m                        pulp\u001b[39m.\u001b[39mLpMinimize)\n\u001b[1;32m----> <a href='vscode-notebook-cell:/d%3A/DS_Works/Quantitative/MPY4FI/code/ch02_the_importance_of_linearity_in_finance.ipynb#X16sZmlsZQ%3D%3D?line=2'>3</a>\u001b[0m model \u001b[39m+\u001b[39m\u001b[39m=\u001b[39m \u001b[39msum\u001b[39m([(variable_costs[i] \u001b[39m*\u001b[39;49m quantities[i] \u001b[39m+\u001b[39;49m fixed_costs[i])\u001b[39m*\u001b[39;49mis_orders[i] \u001b[39mfor\u001b[39;00m i \u001b[39min\u001b[39;00m dealers]), \u001b[39m'\u001b[39m\u001b[39mMinimize portfolio cost\u001b[39m\u001b[39m'\u001b[39m\n\u001b[0;32m      <a href='vscode-notebook-cell:/d%3A/DS_Works/Quantitative/MPY4FI/code/ch02_the_importance_of_linearity_in_finance.ipynb#X16sZmlsZQ%3D%3D?line=3'>4</a>\u001b[0m model \u001b[39m+\u001b[39m\u001b[39m=\u001b[39m \u001b[39msum\u001b[39m([quantities[i] \u001b[39mfor\u001b[39;00m i \u001b[39min\u001b[39;00m dealers]) \u001b[39m==\u001b[39m \u001b[39m150\u001b[39m, \u001b[39m'\u001b[39m\u001b[39mTotal contracts required\u001b[39m\u001b[39m'\u001b[39m\n\u001b[0;32m      <a href='vscode-notebook-cell:/d%3A/DS_Works/Quantitative/MPY4FI/code/ch02_the_importance_of_linearity_in_finance.ipynb#X16sZmlsZQ%3D%3D?line=4'>5</a>\u001b[0m model \u001b[39m+\u001b[39m\u001b[39m=\u001b[39m \u001b[39m30\u001b[39m \u001b[39m<\u001b[39m\u001b[39m=\u001b[39m quantities[\u001b[39m'\u001b[39m\u001b[39mX\u001b[39m\u001b[39m'\u001b[39m] \u001b[39m<\u001b[39m\u001b[39m=\u001b[39m \u001b[39m100\u001b[39m, \u001b[39m'\u001b[39m\u001b[39mBoundary of total volume of X\u001b[39m\u001b[39m'\u001b[39m\n",
      "File \u001b[1;32md:\\anaconda3\\envs\\fi\\Lib\\site-packages\\pulp\\pulp.py:969\u001b[0m, in \u001b[0;36mLpAffineExpression.__mul__\u001b[1;34m(self, other)\u001b[0m\n\u001b[0;32m    967\u001b[0m                 e[v] \u001b[39m=\u001b[39m c \u001b[39m*\u001b[39m x\n\u001b[0;32m    968\u001b[0m \u001b[39melif\u001b[39;00m \u001b[39misinstance\u001b[39m(other, LpVariable):\n\u001b[1;32m--> 969\u001b[0m     \u001b[39mreturn\u001b[39;00m \u001b[39mself\u001b[39;49m \u001b[39m*\u001b[39;49m LpAffineExpression(other)\n\u001b[0;32m    970\u001b[0m \u001b[39melse\u001b[39;00m:\n\u001b[0;32m    971\u001b[0m     \u001b[39mif\u001b[39;00m other \u001b[39m!=\u001b[39m \u001b[39m0\u001b[39m:\n",
      "File \u001b[1;32md:\\anaconda3\\envs\\fi\\Lib\\site-packages\\pulp\\pulp.py:957\u001b[0m, in \u001b[0;36mLpAffineExpression.__mul__\u001b[1;34m(self, other)\u001b[0m\n\u001b[0;32m    955\u001b[0m \u001b[39mif\u001b[39;00m \u001b[39mlen\u001b[39m(other):\n\u001b[0;32m    956\u001b[0m     \u001b[39mif\u001b[39;00m \u001b[39mlen\u001b[39m(\u001b[39mself\u001b[39m):\n\u001b[1;32m--> 957\u001b[0m         \u001b[39mraise\u001b[39;00m \u001b[39mTypeError\u001b[39;00m(\u001b[39m\"\u001b[39m\u001b[39mNon-constant expressions cannot be multiplied\u001b[39m\u001b[39m\"\u001b[39m)\n\u001b[0;32m    958\u001b[0m     \u001b[39melse\u001b[39;00m:\n\u001b[0;32m    959\u001b[0m         c \u001b[39m=\u001b[39m \u001b[39mself\u001b[39m\u001b[39m.\u001b[39mconstant\n",
      "\u001b[1;31mTypeError\u001b[0m: Non-constant expressions cannot be multiplied"
     ]
    }
   ],
   "source": [
    "model = pulp.LpProblem('A_cost_minimization_problem',\n",
    "                       pulp.LpMinimize)\n",
    "model += sum([(variable_costs[i] * quantities[i] + fixed_costs[i])*is_orders[i] for i in dealers]), 'Minimize portfolio cost'\n",
    "model += sum([quantities[i] for i in dealers]) == 150, 'Total contracts required'\n",
    "model += 30 <= quantities['X'] <= 100, 'Boundary of total volume of X'\n",
    "model += 30 <= quantities['Y'] <= 90, 'Boundary of total volume of Y'\n",
    "model += 30 <= quantities['Z'] <= 70, 'Boundary of total volume of Z'"
   ]
  },
  {
   "cell_type": "code",
   "execution_count": null,
   "metadata": {},
   "outputs": [
    {
     "data": {
      "text/plain": [
       "1"
      ]
     },
     "execution_count": 49,
     "metadata": {},
     "output_type": "execute_result"
    }
   ],
   "source": [
    "model = pulp.LpProblem('A_cost_minimization_problem',\n",
    "                       pulp.LpMinimize)\n",
    "model += sum([variable_costs[i] * quantities[i] + fixed_costs[i] * is_orders[i] for i in dealers]), 'Minimize portfolio cost'\n",
    "model += is_orders['X'] * 30 <= quantities['X'] <= is_orders['X'] * 100, 'Boundary of total volume of X'\n",
    "model += is_orders['Y'] * 30 <= quantities['Y'] <= is_orders['Y'] * 90, 'Boundary of total volume of Y'\n",
    "model += is_orders['Z'] * 30 <= quantities['Z'] <= is_orders['Z'] * 70, 'Boundary of total volume of Z'\n",
    "model += sum([quantities[i] for i in dealers]) == 150, 'Total contracts required'\n",
    "model.solve()"
   ]
  },
  {
   "cell_type": "code",
   "execution_count": null,
   "metadata": {},
   "outputs": [
    {
     "name": "stdout",
     "output_type": "stream",
     "text": [
      "Minimization Results:\n",
      "orders_X = 0.0\n",
      "orders_Y = 1.0\n",
      "orders_Z = 1.0\n",
      "quantity_X = 0.0\n",
      "quantity_Y = 90.0\n",
      "quantity_Z = 60.0\n",
      "Total cost: 66500.0\n"
     ]
    }
   ],
   "source": [
    "print(\"Minimization Results:\")\n",
    "for variable in model.variables():\n",
    "    print(variable, '=', variable.varValue)\n",
    "print('Total cost:', pulp.value(model.objective))"
   ]
  },
  {
   "cell_type": "markdown",
   "metadata": {},
   "source": [
    "## 使用矩阵解线性方程组"
   ]
  },
  {
   "cell_type": "code",
   "execution_count": null,
   "metadata": {},
   "outputs": [],
   "source": [
    "import numpy as np\n",
    "\n",
    "A = np.array([[2, 1, 1], \n",
    "              [1, 3, 2],\n",
    "              [1, 0, 0]])\n",
    "B = np.array([[4], [5], [6]])"
   ]
  },
  {
   "cell_type": "code",
   "execution_count": null,
   "metadata": {},
   "outputs": [
    {
     "data": {
      "text/plain": [
       "array([[  6.],\n",
       "       [ 15.],\n",
       "       [-23.]])"
      ]
     },
     "execution_count": 55,
     "metadata": {},
     "output_type": "execute_result"
    }
   ],
   "source": [
    "np.linalg.solve(A, B)"
   ]
  },
  {
   "cell_type": "markdown",
   "metadata": {},
   "source": [
    "## LU 分解"
   ]
  },
  {
   "cell_type": "code",
   "execution_count": null,
   "metadata": {},
   "outputs": [
    {
     "data": {
      "text/plain": [
       "array([[  6.],\n",
       "       [ 15.],\n",
       "       [-23.]])"
      ]
     },
     "execution_count": 58,
     "metadata": {},
     "output_type": "execute_result"
    }
   ],
   "source": [
    "import scipy.linalg as linalg\n",
    "A = np.array([\n",
    "    [2, 1, 1], \n",
    "    [1, 3, 2],\n",
    "    [1, 0, 0]\n",
    "])\n",
    "B = np.array([[4], [5], [6]])\n",
    "LU = linalg.lu_factor(A)\n",
    "x = linalg.lu_solve(LU, B)\n",
    "x"
   ]
  },
  {
   "cell_type": "code",
   "execution_count": null,
   "metadata": {},
   "outputs": [],
   "source": [
    "import scipy\n",
    "P, L, U = scipy.linalg.lu(A)"
   ]
  },
  {
   "cell_type": "code",
   "execution_count": null,
   "metadata": {},
   "outputs": [
    {
     "data": {
      "text/plain": [
       "array([[1., 0., 0.],\n",
       "       [0., 1., 0.],\n",
       "       [0., 0., 1.]])"
      ]
     },
     "execution_count": 60,
     "metadata": {},
     "output_type": "execute_result"
    }
   ],
   "source": [
    "P"
   ]
  },
  {
   "cell_type": "code",
   "execution_count": null,
   "metadata": {},
   "outputs": [
    {
     "data": {
      "text/plain": [
       "array([[ 1. ,  0. ,  0. ],\n",
       "       [ 0.5,  1. ,  0. ],\n",
       "       [ 0.5, -0.2,  1. ]])"
      ]
     },
     "execution_count": 61,
     "metadata": {},
     "output_type": "execute_result"
    }
   ],
   "source": [
    "L"
   ]
  },
  {
   "cell_type": "code",
   "execution_count": null,
   "metadata": {},
   "outputs": [
    {
     "data": {
      "text/plain": [
       "array([[ 2. ,  1. ,  1. ],\n",
       "       [ 0. ,  2.5,  1.5],\n",
       "       [ 0. ,  0. , -0.2]])"
      ]
     },
     "execution_count": 62,
     "metadata": {},
     "output_type": "execute_result"
    }
   ],
   "source": [
    "U"
   ]
  },
  {
   "cell_type": "markdown",
   "metadata": {},
   "source": [
    "## Cholesky分解"
   ]
  },
  {
   "cell_type": "code",
   "execution_count": 12,
   "metadata": {},
   "outputs": [],
   "source": [
    "A = np.array([\n",
    "    [10., -1., 2., 0.],\n",
    "    [-1., 11., -1., 3.],\n",
    "    [2., -1., 10., -1.],\n",
    "    [0., 3., -1., 8.]\n",
    "])\n",
    "B = np.array([6., 25., -11., 15.])"
   ]
  },
  {
   "cell_type": "code",
   "execution_count": 14,
   "metadata": {},
   "outputs": [
    {
     "data": {
      "text/plain": [
       "array([[ 3.16227766,  0.        ,  0.        ,  0.        ],\n",
       "       [-0.31622777,  3.3015148 ,  0.        ,  0.        ],\n",
       "       [ 0.63245553, -0.24231301,  3.08889696,  0.        ],\n",
       "       [ 0.        ,  0.9086738 , -0.25245792,  2.6665665 ]])"
      ]
     },
     "execution_count": 14,
     "metadata": {},
     "output_type": "execute_result"
    }
   ],
   "source": [
    "L = np.linalg.cholesky(A)\n",
    "L"
   ]
  },
  {
   "cell_type": "code",
   "execution_count": 15,
   "metadata": {},
   "outputs": [
    {
     "data": {
      "text/plain": [
       "array([[10., -1.,  2.,  0.],\n",
       "       [-1., 11., -1.,  3.],\n",
       "       [ 2., -1., 10., -1.],\n",
       "       [ 0.,  3., -1.,  8.]])"
      ]
     },
     "execution_count": 15,
     "metadata": {},
     "output_type": "execute_result"
    }
   ],
   "source": [
    "np.dot(L, L.T.conj())"
   ]
  },
  {
   "cell_type": "code",
   "execution_count": 18,
   "metadata": {},
   "outputs": [
    {
     "data": {
      "text/plain": [
       "array([ 1.,  2., -1.,  1.])"
      ]
     },
     "execution_count": 18,
     "metadata": {},
     "output_type": "execute_result"
    }
   ],
   "source": [
    "y = np.linalg.solve(L, B)\n",
    "x = np.linalg.solve(L.T.conj(), y)\n",
    "x"
   ]
  },
  {
   "cell_type": "code",
   "execution_count": 19,
   "metadata": {},
   "outputs": [
    {
     "data": {
      "text/plain": [
       "matrix([[  6.],\n",
       "        [ 25.],\n",
       "        [-11.],\n",
       "        [ 15.]])"
      ]
     },
     "execution_count": 19,
     "metadata": {},
     "output_type": "execute_result"
    }
   ],
   "source": [
    "np.mat(A) * np.mat(x).T"
   ]
  },
  {
   "cell_type": "markdown",
   "metadata": {},
   "source": [
    "## QR分解"
   ]
  },
  {
   "cell_type": "code",
   "execution_count": 24,
   "metadata": {},
   "outputs": [],
   "source": [
    "import scipy\n",
    "A = np.array([\n",
    "    [2., 1., 1.],\n",
    "    [1., 3., 2.],\n",
    "    [1., 0., 0]])\n",
    "B = np.array([4., 5., 6.])\n",
    "Q, R = scipy.linalg.qr(A)"
   ]
  },
  {
   "cell_type": "code",
   "execution_count": 27,
   "metadata": {},
   "outputs": [
    {
     "data": {
      "text/plain": [
       "array([  6.,  15., -23.])"
      ]
     },
     "execution_count": 27,
     "metadata": {},
     "output_type": "execute_result"
    }
   ],
   "source": [
    "y = np.dot(Q.T, B)\n",
    "x = scipy.linalg.solve(R, y)\n",
    "x"
   ]
  },
  {
   "cell_type": "markdown",
   "metadata": {},
   "source": [
    "## 使用其他矩阵代数方法求解"
   ]
  },
  {
   "cell_type": "markdown",
   "metadata": {},
   "source": [
    "### Jacobi 迭代法"
   ]
  },
  {
   "cell_type": "code",
   "execution_count": 29,
   "metadata": {},
   "outputs": [],
   "source": [
    "\"\"\"\n",
    "Solve Ax=B with the Jacobi method\n",
    "\"\"\"\n",
    "\n",
    "import numpy as np\n",
    "def jacobi(A, B, n, tol=1e-10):\n",
    "    # Initializes x with zeroes with same shape and type as B\n",
    "    x = np.zeros_like(B)\n",
    "    \n",
    "    for iter_count in range(n):\n",
    "        x_new = np.zeros_like(x)\n",
    "        for i in range(A.shape[0]):\n",
    "            s1 = np.dot(A[i, :i], x[:i])\n",
    "            s2 = np.dot(A[i, i+1:], x[i+1:])\n",
    "            x_new[i] = (B[i] - s1 - s2) / A[i, i] \n",
    "        if np.allclose(x, x_new, tol):\n",
    "            break\n",
    "        x = x_new\n",
    "    return x  "
   ]
  },
  {
   "cell_type": "code",
   "execution_count": 31,
   "metadata": {},
   "outputs": [],
   "source": [
    "A = np.array([\n",
    "    [10., -1., 2., 0.],\n",
    "    [-1., 11., -1., 3.],\n",
    "    [2., -1., 10., -1.],\n",
    "    [0.0, 3., -1., 8.]])\n",
    "B = np.array([6., 25., -11., 15.])\n",
    "n = 25"
   ]
  },
  {
   "cell_type": "code",
   "execution_count": 33,
   "metadata": {},
   "outputs": [
    {
     "data": {
      "text/plain": [
       "array([ 1.,  2., -1.,  1.])"
      ]
     },
     "execution_count": 33,
     "metadata": {},
     "output_type": "execute_result"
    }
   ],
   "source": [
    "x = jacobi(A, B, n)\n",
    "x"
   ]
  },
  {
   "cell_type": "markdown",
   "metadata": {},
   "source": [
    "### Gauss-Seidel 迭代法"
   ]
  },
  {
   "cell_type": "code",
   "execution_count": 35,
   "metadata": {},
   "outputs": [],
   "source": [
    "\"\"\"\n",
    "Solve Ax=B with the Gauss-Seidel method\n",
    "\"\"\"\n",
    "def gauss(A, B, n, tol=1e-10):\n",
    "    L = np.tril(A) # returns the lower triangular matrix of A\n",
    "    U = A - L\n",
    "    L_inv = np.linalg.inv(L)\n",
    "    \n",
    "    x = np.zeros_like(B)\n",
    "    for i in range(n):\n",
    "        Ux = np.dot(U, x)\n",
    "        x_new = np.dot(L_inv, B - Ux)\n",
    "        \n",
    "        if np.allclose(x, x_new, tol):\n",
    "            break\n",
    "        x = x_new\n",
    "    return x"
   ]
  },
  {
   "cell_type": "code",
   "execution_count": 37,
   "metadata": {},
   "outputs": [
    {
     "name": "stdout",
     "output_type": "stream",
     "text": [
      "x =  [ 1.  2. -1.  1.]\n"
     ]
    }
   ],
   "source": [
    "A = np.array([\n",
    "    [10., -1., 2., 0.],\n",
    "    [-1., 11., -1., 3.],\n",
    "    [2., -1., 10., -1.],\n",
    "    [0.0, 3., -1., 8.]])\n",
    "\n",
    "B = np.array([6., 25., -11., 15.])\n",
    "n = 100\n",
    "x = gauss(A, B, n)\n",
    "print('x = ', x)"
   ]
  },
  {
   "cell_type": "code",
   "execution_count": null,
   "metadata": {},
   "outputs": [],
   "source": []
  }
 ],
 "metadata": {
  "kernelspec": {
   "display_name": "fi",
   "language": "python",
   "name": "python3"
  },
  "language_info": {
   "codemirror_mode": {
    "name": "ipython",
    "version": 3
   },
   "file_extension": ".py",
   "mimetype": "text/x-python",
   "name": "python",
   "nbconvert_exporter": "python",
   "pygments_lexer": "ipython3",
   "version": "3.11.5"
  }
 },
 "nbformat": 4,
 "nbformat_minor": 2
}
